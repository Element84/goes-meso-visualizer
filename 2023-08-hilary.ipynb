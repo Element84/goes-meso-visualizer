{
 "cells": [
  {
   "cell_type": "markdown",
   "metadata": {},
   "source": [
    "# 2023-08-Hilary"
   ]
  },
  {
   "cell_type": "code",
   "execution_count": 5,
   "metadata": {},
   "outputs": [],
   "source": [
    "import datetime\n",
    "from datetime import timezone\n",
    "from geopandas import GeoDataFrame\n",
    "from pystac_client import Client\n",
    "\n",
    "earth_search = Client.open(\"https://earth-search.aws.element84.com/v1/\")\n",
    "formed = datetime.datetime(2023, 8, 16, tzinfo=timezone.utc)\n",
    "dissipated = datetime.datetime(2023, 8, 21, tzinfo=timezone.utc)\n",
    "\n",
    "# https://www.nhc.noaa.gov/gis/archive_besttrack_results.php?id=ep09&year=2023&name=Hurricane%20HILARY"
   ]
  },
  {
   "cell_type": "code",
   "execution_count": null,
   "metadata": {},
   "outputs": [],
   "source": [
    "search = earth_search.search(\n",
    "    collections=[\"landsat-c2-l2\"],\n",
    ")"
   ]
  }
 ],
 "metadata": {
  "kernelspec": {
   "display_name": ".venv",
   "language": "python",
   "name": "python3"
  },
  "language_info": {
   "codemirror_mode": {
    "name": "ipython",
    "version": 3
   },
   "file_extension": ".py",
   "mimetype": "text/x-python",
   "name": "python",
   "nbconvert_exporter": "python",
   "pygments_lexer": "ipython3",
   "version": "3.11.3"
  },
  "orig_nbformat": 4
 },
 "nbformat": 4,
 "nbformat_minor": 2
}
